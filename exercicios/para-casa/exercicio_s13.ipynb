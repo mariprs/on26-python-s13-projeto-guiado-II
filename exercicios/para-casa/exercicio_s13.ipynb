{
 "cells": [
  {
   "cell_type": "markdown",
   "metadata": {},
   "source": [
    "<h1 style=\"text-align: center\">Exercício Semana 13 - Reprograma</h1><img src=\"./assets/\" />"
   ]
  },
  {
   "cell_type": "markdown",
   "metadata": {},
   "source": [
    "<img src=\"./assets/\"/>\n",
    "<h2>Descrição:</h2>\n",
    "<p style=\"text-align: justify\">Este projeto visa analisar um dataset e compilar informações detalhadas sobre o Índice de Desigualdade de Gênero (Gender Inequality Index - GII) em todo mundo. O GII é uma métrica ampla que avalia as disparidades de gênero em áreas críticas, incluindo saúde, educação e oportunidade econômica.</p>\n",
    "<ol><p style=\"text-align: justify\">Este banco de dados inclui os seguintes indicadores:</p>\n",
    "<li><b>Country:</b> o pais ao qual os dados se referem.</li>\n",
    "<li><b>Human Development:</b> o nível de desenvolvimento humano do país.</li>\n",
    "<li><b>GII:</b> a pontuação do Índice de Desigualdade de Gênero.</li>\n",
    "<li><b>Rank:</b> a posição do país no ranking global de desigualdade de gênero.</li>\n",
    "<li><b>Maternal Mortality:</b> a taxa de mortalidade materna, que funciona como indicador crítico de saúde feminina. Foi calculado um ratio de mortes por 100,000 nascimentos.</li>\n",
    "<li><b>Adolescent Birth Rate:</b> a taxa de natalidade na adolescência, fator que afeta saúde, oportunidades econômicas e reflete na educação.</li>\n",
    "<li><b>Seats in Parliament:</b> a representação feminina no parlamento em porcentagem, um fator de igualdade política.</li>\n",
    "<li><b>Female Secondary Education:</b> a participação feminina no ensino médio. Em porcentagem e incluído apenas mulheres de 25 anos e mais velhas.</li>\n",
    "<li><b>Male Secondary Education:</b> a participação masculina no ensino médio. Em porcentagem e incluído apenas homens de 25 anos e mais velhos.</li>\n",
    "<li><b>Female Labor Force Participation:</b> a participação feminina no mercado de trabalho. Em porcentagem, incluso idades de 15 para cima.</li>\n",
    "<li><b>Male Labor Force Participation:</b> a participação masculina no mercado de trabalho.Em porcentagem, incluso idades de 15 para cima.</li></ol>\n",
    "\n",
    "<h2>Objetivos do projeto:</h2>\n",
    "<ul><li style=\"text-align: justify\">Traduzir os dados para aumentar a sua acessibilidade.</li>\n",
    "<li style=\"text-align: justify\">Limpar os dados do dataset para facilitar a consulta.</li>\n",
    "<li style=\"text-align: justify\">Facilitar a criação de insights através de visualizações com o <i>Pandas</i> e <i>MatPlotLib</i>.</li>\n",
    "<li style=\"text-align: justify\">Avaliar a disparidade de gênero em áreas críticas (saúde, educação e oportunidades econômicas) a nível global.</li></ul>\n",
    "\n",
    "<h2>Fonte de dados:</h2>\n",
    "<p style=\"text-align: justify\">Os dados utilizados foram obtidos através do Kaggle e fazem parte do conjunto de dados públicos do GII. É possível encontrar informações detalhadas sobre o conjunto de dados <a src=\"https://www.kaggle.com/datasets/gianinamariapetrascu/gender-inequality-index\" target=\"_blank\">aqui</a>.</p>\n"
   ]
  },
  {
   "cell_type": "code",
   "execution_count": 3,
   "metadata": {},
   "outputs": [],
   "source": [
    "#Importando os pacotes necessários\n",
    "import pandas as pd\n",
    "import matplotlib.pyplot as plt"
   ]
  },
  {
   "cell_type": "code",
   "execution_count": 5,
   "metadata": {},
   "outputs": [],
   "source": [
    "#Importando o arquivo Gender_Inequality_Index.csv para um dataframe\n",
    "df = pd.read_csv(\"./raw_data/Gender_Inequality_Index.csv\")"
   ]
  },
  {
   "cell_type": "markdown",
   "metadata": {},
   "source": [
    "<h2>Limpeza dos dados</h2>"
   ]
  },
  {
   "cell_type": "code",
   "execution_count": 6,
   "metadata": {},
   "outputs": [
    {
     "data": {
      "text/html": [
       "<div>\n",
       "<style scoped>\n",
       "    .dataframe tbody tr th:only-of-type {\n",
       "        vertical-align: middle;\n",
       "    }\n",
       "\n",
       "    .dataframe tbody tr th {\n",
       "        vertical-align: top;\n",
       "    }\n",
       "\n",
       "    .dataframe thead th {\n",
       "        text-align: right;\n",
       "    }\n",
       "</style>\n",
       "<table border=\"1\" class=\"dataframe\">\n",
       "  <thead>\n",
       "    <tr style=\"text-align: right;\">\n",
       "      <th></th>\n",
       "      <th>Country</th>\n",
       "      <th>Human_development</th>\n",
       "      <th>GII</th>\n",
       "      <th>Rank</th>\n",
       "      <th>Maternal_mortality</th>\n",
       "      <th>Adolescent_birth_rate</th>\n",
       "      <th>Seats_parliament</th>\n",
       "      <th>F_secondary_educ</th>\n",
       "      <th>M_secondary_educ</th>\n",
       "      <th>F_Labour_force</th>\n",
       "      <th>M_Labour_force</th>\n",
       "    </tr>\n",
       "  </thead>\n",
       "  <tbody>\n",
       "    <tr>\n",
       "      <th>0</th>\n",
       "      <td>Switzerland</td>\n",
       "      <td>Very high</td>\n",
       "      <td>0.018</td>\n",
       "      <td>3.0</td>\n",
       "      <td>5.0</td>\n",
       "      <td>2.2</td>\n",
       "      <td>39.8</td>\n",
       "      <td>96.9</td>\n",
       "      <td>97.5</td>\n",
       "      <td>61.7</td>\n",
       "      <td>72.7</td>\n",
       "    </tr>\n",
       "    <tr>\n",
       "      <th>1</th>\n",
       "      <td>Norway</td>\n",
       "      <td>Very high</td>\n",
       "      <td>0.016</td>\n",
       "      <td>2.0</td>\n",
       "      <td>2.0</td>\n",
       "      <td>2.3</td>\n",
       "      <td>45.0</td>\n",
       "      <td>99.1</td>\n",
       "      <td>99.3</td>\n",
       "      <td>60.3</td>\n",
       "      <td>72.0</td>\n",
       "    </tr>\n",
       "    <tr>\n",
       "      <th>2</th>\n",
       "      <td>Iceland</td>\n",
       "      <td>Very high</td>\n",
       "      <td>0.043</td>\n",
       "      <td>8.0</td>\n",
       "      <td>4.0</td>\n",
       "      <td>5.4</td>\n",
       "      <td>47.6</td>\n",
       "      <td>99.8</td>\n",
       "      <td>99.7</td>\n",
       "      <td>61.7</td>\n",
       "      <td>70.5</td>\n",
       "    </tr>\n",
       "    <tr>\n",
       "      <th>3</th>\n",
       "      <td>Hong Kong</td>\n",
       "      <td>Very high</td>\n",
       "      <td>NaN</td>\n",
       "      <td>NaN</td>\n",
       "      <td>NaN</td>\n",
       "      <td>1.6</td>\n",
       "      <td>NaN</td>\n",
       "      <td>77.1</td>\n",
       "      <td>83.4</td>\n",
       "      <td>53.5</td>\n",
       "      <td>65.8</td>\n",
       "    </tr>\n",
       "    <tr>\n",
       "      <th>4</th>\n",
       "      <td>Australia</td>\n",
       "      <td>Very high</td>\n",
       "      <td>0.073</td>\n",
       "      <td>19.0</td>\n",
       "      <td>6.0</td>\n",
       "      <td>8.1</td>\n",
       "      <td>37.9</td>\n",
       "      <td>94.6</td>\n",
       "      <td>94.4</td>\n",
       "      <td>61.1</td>\n",
       "      <td>70.5</td>\n",
       "    </tr>\n",
       "  </tbody>\n",
       "</table>\n",
       "</div>"
      ],
      "text/plain": [
       "       Country Human_development    GII  Rank  Maternal_mortality  \\\n",
       "0  Switzerland         Very high  0.018   3.0                 5.0   \n",
       "1       Norway         Very high  0.016   2.0                 2.0   \n",
       "2      Iceland         Very high  0.043   8.0                 4.0   \n",
       "3    Hong Kong         Very high    NaN   NaN                 NaN   \n",
       "4    Australia         Very high  0.073  19.0                 6.0   \n",
       "\n",
       "   Adolescent_birth_rate  Seats_parliament  F_secondary_educ  \\\n",
       "0                    2.2              39.8              96.9   \n",
       "1                    2.3              45.0              99.1   \n",
       "2                    5.4              47.6              99.8   \n",
       "3                    1.6               NaN              77.1   \n",
       "4                    8.1              37.9              94.6   \n",
       "\n",
       "   M_secondary_educ  F_Labour_force  M_Labour_force  \n",
       "0              97.5            61.7            72.7  \n",
       "1              99.3            60.3            72.0  \n",
       "2              99.7            61.7            70.5  \n",
       "3              83.4            53.5            65.8  \n",
       "4              94.4            61.1            70.5  "
      ]
     },
     "execution_count": 6,
     "metadata": {},
     "output_type": "execute_result"
    }
   ],
   "source": [
    "#Visualizando o início do dataframe\n",
    "df.head()"
   ]
  },
  {
   "cell_type": "markdown",
   "metadata": {},
   "source": [
    "<p style=\"text-align:justify\">A primeira etapa ao lidar com um conjunto de dados é a compreensão de sua estrutura e conteúdo.</p>\n",
    "<p style=\"text-align:justify\">Ao exibir as primeiras linhas do DataFrame, já é possível identificar que os dados estão em inglês e alguns de seus valores estão nulos. Sendo assim, a proxima ação será limpar os dados nulos para garantir que apenas informações válidas estejam presentes nas colunas.</p>"
   ]
  },
  {
   "cell_type": "code",
   "execution_count": 7,
   "metadata": {},
   "outputs": [],
   "source": [
    "#Tradução das colunas\n",
    "df = df.rename(columns={\n",
    "'Country':'País',\n",
    "'Human_development': 'Desenvolvimento Humano',\n",
    "'GII': 'IDG',\n",
    "'Maternal_mortality': 'Mortalidade Materna',\n",
    "'Adolescent_birth_rate': 'Taxa de Gravidez na Adolescência',\n",
    "'Seats_parliament': '% Assentos Femininos no Parlamento',\n",
    "'F_secondary_educ': '% Mulheres com Educação Secundária',\n",
    "'M_secondary_educ': '% Homens com Educação Secundária',\n",
    "'F_Labour_force': '% Mulheres no Mercado de Trabalho',\n",
    "'M_Labour_force': '% Homens no Mercado de Trabalho'\n",
    "})"
   ]
  },
  {
   "cell_type": "code",
   "execution_count": null,
   "metadata": {},
   "outputs": [],
   "source": [
    "#Tradução dos campos"
   ]
  }
 ],
 "metadata": {
  "kernelspec": {
   "display_name": "Python 3",
   "language": "python",
   "name": "python3"
  },
  "language_info": {
   "codemirror_mode": {
    "name": "ipython",
    "version": 3
   },
   "file_extension": ".py",
   "mimetype": "text/x-python",
   "name": "python",
   "nbconvert_exporter": "python",
   "pygments_lexer": "ipython3",
   "version": "3.11.6"
  }
 },
 "nbformat": 4,
 "nbformat_minor": 2
}
