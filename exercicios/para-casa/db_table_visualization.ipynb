{
 "cells": [
  {
   "cell_type": "code",
   "execution_count": 2,
   "metadata": {},
   "outputs": [],
   "source": [
    "import sqlite3\n",
    "import csv\n",
    "\n",
    "#CTRL P"
   ]
  },
  {
   "cell_type": "code",
   "execution_count": 3,
   "metadata": {},
   "outputs": [],
   "source": [
    "connection = sqlite3.connect(\"index_inequalidade_genero_mundial.db\")\n",
    "cursor = connection.cursor()"
   ]
  },
  {
   "cell_type": "code",
   "execution_count": 18,
   "metadata": {},
   "outputs": [
    {
     "ename": "ProgrammingError",
     "evalue": "Cannot operate on a closed database.",
     "output_type": "error",
     "traceback": [
      "\u001b[1;31m---------------------------------------------------------------------------\u001b[0m",
      "\u001b[1;31mProgrammingError\u001b[0m                          Traceback (most recent call last)",
      "\u001b[1;32mc:\\Users\\pingm\\estudos\\semana13\\on26-python-s13-projeto-guiado-II\\exercicios\\para-casa\\db_table_visualization.ipynb Cell 3\u001b[0m line \u001b[0;36m4\n\u001b[0;32m      <a href='vscode-notebook-cell:/c%3A/Users/pingm/estudos/semana13/on26-python-s13-projeto-guiado-II/exercicios/para-casa/db_table_visualization.ipynb#W2sZmlsZQ%3D%3D?line=1'>2</a>\u001b[0m data \u001b[39m=\u001b[39m csv\u001b[39m.\u001b[39mreader(file)\n\u001b[0;32m      <a href='vscode-notebook-cell:/c%3A/Users/pingm/estudos/semana13/on26-python-s13-projeto-guiado-II/exercicios/para-casa/db_table_visualization.ipynb#W2sZmlsZQ%3D%3D?line=2'>3</a>\u001b[0m \u001b[39mnext\u001b[39m(data)\n\u001b[1;32m----> <a href='vscode-notebook-cell:/c%3A/Users/pingm/estudos/semana13/on26-python-s13-projeto-guiado-II/exercicios/para-casa/db_table_visualization.ipynb#W2sZmlsZQ%3D%3D?line=3'>4</a>\u001b[0m cursor\u001b[39m.\u001b[39;49mexecute(\u001b[39m'''\u001b[39;49m\u001b[39mCREATE TABLE IF NOT EXISTS inequalidade_genero_mundial (\u001b[39;49m\n\u001b[0;32m      <a href='vscode-notebook-cell:/c%3A/Users/pingm/estudos/semana13/on26-python-s13-projeto-guiado-II/exercicios/para-casa/db_table_visualization.ipynb#W2sZmlsZQ%3D%3D?line=4'>5</a>\u001b[0m \u001b[39mCountry TEXT,\u001b[39;49m\n\u001b[0;32m      <a href='vscode-notebook-cell:/c%3A/Users/pingm/estudos/semana13/on26-python-s13-projeto-guiado-II/exercicios/para-casa/db_table_visualization.ipynb#W2sZmlsZQ%3D%3D?line=5'>6</a>\u001b[0m \u001b[39mHuman_development TEXT,\u001b[39;49m\n\u001b[0;32m      <a href='vscode-notebook-cell:/c%3A/Users/pingm/estudos/semana13/on26-python-s13-projeto-guiado-II/exercicios/para-casa/db_table_visualization.ipynb#W2sZmlsZQ%3D%3D?line=6'>7</a>\u001b[0m \u001b[39mGII INT,\u001b[39;49m\n\u001b[0;32m      <a href='vscode-notebook-cell:/c%3A/Users/pingm/estudos/semana13/on26-python-s13-projeto-guiado-II/exercicios/para-casa/db_table_visualization.ipynb#W2sZmlsZQ%3D%3D?line=7'>8</a>\u001b[0m \u001b[39mRank REAL,\u001b[39;49m\n\u001b[0;32m      <a href='vscode-notebook-cell:/c%3A/Users/pingm/estudos/semana13/on26-python-s13-projeto-guiado-II/exercicios/para-casa/db_table_visualization.ipynb#W2sZmlsZQ%3D%3D?line=8'>9</a>\u001b[0m \u001b[39mMaternal_mortality INT,\u001b[39;49m\n\u001b[0;32m     <a href='vscode-notebook-cell:/c%3A/Users/pingm/estudos/semana13/on26-python-s13-projeto-guiado-II/exercicios/para-casa/db_table_visualization.ipynb#W2sZmlsZQ%3D%3D?line=9'>10</a>\u001b[0m \u001b[39mAdolescent_birth_rate REAL,\u001b[39;49m\n\u001b[0;32m     <a href='vscode-notebook-cell:/c%3A/Users/pingm/estudos/semana13/on26-python-s13-projeto-guiado-II/exercicios/para-casa/db_table_visualization.ipynb#W2sZmlsZQ%3D%3D?line=10'>11</a>\u001b[0m \u001b[39mSeats_parliament REAL,\u001b[39;49m\n\u001b[0;32m     <a href='vscode-notebook-cell:/c%3A/Users/pingm/estudos/semana13/on26-python-s13-projeto-guiado-II/exercicios/para-casa/db_table_visualization.ipynb#W2sZmlsZQ%3D%3D?line=11'>12</a>\u001b[0m \u001b[39mF_secondary_educ REAL,\u001b[39;49m\n\u001b[0;32m     <a href='vscode-notebook-cell:/c%3A/Users/pingm/estudos/semana13/on26-python-s13-projeto-guiado-II/exercicios/para-casa/db_table_visualization.ipynb#W2sZmlsZQ%3D%3D?line=12'>13</a>\u001b[0m \u001b[39mM_secondary_educ REAL,\u001b[39;49m\n\u001b[0;32m     <a href='vscode-notebook-cell:/c%3A/Users/pingm/estudos/semana13/on26-python-s13-projeto-guiado-II/exercicios/para-casa/db_table_visualization.ipynb#W2sZmlsZQ%3D%3D?line=13'>14</a>\u001b[0m \u001b[39mF_Labour_force REAL,\u001b[39;49m\n\u001b[0;32m     <a href='vscode-notebook-cell:/c%3A/Users/pingm/estudos/semana13/on26-python-s13-projeto-guiado-II/exercicios/para-casa/db_table_visualization.ipynb#W2sZmlsZQ%3D%3D?line=14'>15</a>\u001b[0m \u001b[39mM_Labour_force REAL\u001b[39;49m\n\u001b[0;32m     <a href='vscode-notebook-cell:/c%3A/Users/pingm/estudos/semana13/on26-python-s13-projeto-guiado-II/exercicios/para-casa/db_table_visualization.ipynb#W2sZmlsZQ%3D%3D?line=15'>16</a>\u001b[0m \u001b[39m)\u001b[39;49m\u001b[39m'''\u001b[39;49m)\n\u001b[0;32m     <a href='vscode-notebook-cell:/c%3A/Users/pingm/estudos/semana13/on26-python-s13-projeto-guiado-II/exercicios/para-casa/db_table_visualization.ipynb#W2sZmlsZQ%3D%3D?line=16'>17</a>\u001b[0m inserir_conteudo \u001b[39m=\u001b[39m \u001b[39m\"\u001b[39m\u001b[39mINSERT INTO inequalidade_genero_mundial (Country, Human_development, GII, Rank, Maternal_mortality, Adolescent_birth_rate, Seats_parliament, F_secondary_educ, M_secondary_educ, F_Labour_force, M_Labour_force) VALUES (?, ?, ?, ?, ?, ?, ?, ?, ?, ?, ?)\u001b[39m\u001b[39m\"\u001b[39m\n\u001b[0;32m     <a href='vscode-notebook-cell:/c%3A/Users/pingm/estudos/semana13/on26-python-s13-projeto-guiado-II/exercicios/para-casa/db_table_visualization.ipynb#W2sZmlsZQ%3D%3D?line=18'>19</a>\u001b[0m \u001b[39mfor\u001b[39;00m row \u001b[39min\u001b[39;00m data:\n",
      "\u001b[1;31mProgrammingError\u001b[0m: Cannot operate on a closed database."
     ]
    }
   ],
   "source": [
    "with open(\"./raw_data/Gender_Inequality_Index.csv\", encoding='UTF-8') as file:\n",
    "    data = csv.reader(file)\n",
    "    next(data)\n",
    "    cursor.execute('''CREATE TABLE IF NOT EXISTS inequalidade_genero_mundial (\n",
    "    Country TEXT,\n",
    "    Human_development TEXT,\n",
    "    GII INT,\n",
    "    Rank REAL,\n",
    "    Maternal_mortality INT,\n",
    "    Adolescent_birth_rate REAL,\n",
    "    Seats_parliament REAL,\n",
    "    F_secondary_educ REAL,\n",
    "    M_secondary_educ REAL,\n",
    "    F_Labour_force REAL,\n",
    "    M_Labour_force REAL\n",
    "    )''')\n",
    "    inserir_conteudo = \"INSERT INTO inequalidade_genero_mundial (Country, Human_development, GII, Rank, Maternal_mortality, Adolescent_birth_rate, Seats_parliament, F_secondary_educ, M_secondary_educ, F_Labour_force, M_Labour_force) VALUES (?, ?, ?, ?, ?, ?, ?, ?, ?, ?, ?)\"\n",
    "\n",
    "    for row in data:\n",
    "        cursor.execute(inserir_conteudo, row)\n",
    "\n",
    "# insert delimiter=\";\" as a file attribute in case the .csv has ; instead of , separating the rows"
   ]
  },
  {
   "cell_type": "code",
   "execution_count": 17,
   "metadata": {},
   "outputs": [],
   "source": [
    "connection.commit()\n",
    "connection.close()"
   ]
  }
 ],
 "metadata": {
  "kernelspec": {
   "display_name": "Python 3",
   "language": "python",
   "name": "python3"
  },
  "language_info": {
   "codemirror_mode": {
    "name": "ipython",
    "version": 3
   },
   "file_extension": ".py",
   "mimetype": "text/x-python",
   "name": "python",
   "nbconvert_exporter": "python",
   "pygments_lexer": "ipython3",
   "version": "3.11.6"
  }
 },
 "nbformat": 4,
 "nbformat_minor": 2
}
